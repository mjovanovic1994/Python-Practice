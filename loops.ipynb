{
 "cells": [
  {
   "cell_type": "code",
   "execution_count": 1,
   "id": "8a1b0a76",
   "metadata": {},
   "outputs": [],
   "source": [
    "fruits = ['ápple','órange','mango']"
   ]
  },
  {
   "cell_type": "code",
   "execution_count": 3,
   "id": "9daa58d2",
   "metadata": {},
   "outputs": [
    {
     "name": "stdout",
     "output_type": "stream",
     "text": [
      "í like  ápple\n",
      "í like  órange\n",
      "í like  mango\n"
     ]
    }
   ],
   "source": [
    "for fruit in fruits:\n",
    "    print('í like ',fruit)"
   ]
  },
  {
   "cell_type": "code",
   "execution_count": 5,
   "id": "e92bf777",
   "metadata": {},
   "outputs": [
    {
     "data": {
      "text/plain": [
       "[0, 1, 2, 3, 4, 5, 6, 7, 8, 9]"
      ]
     },
     "execution_count": 5,
     "metadata": {},
     "output_type": "execute_result"
    }
   ],
   "source": [
    "list( range(10))"
   ]
  },
  {
   "cell_type": "code",
   "execution_count": 4,
   "id": "7dffbda8",
   "metadata": {},
   "outputs": [
    {
     "name": "stdout",
     "output_type": "stream",
     "text": [
      "0\n",
      "1\n",
      "2\n",
      "3\n",
      "4\n",
      "5\n",
      "6\n",
      "7\n",
      "8\n",
      "9\n"
     ]
    }
   ],
   "source": [
    "for i in range(10):\n",
    "    print(i)"
   ]
  },
  {
   "cell_type": "code",
   "execution_count": null,
   "id": "ec2a2f07",
   "metadata": {},
   "outputs": [],
   "source": [
    "for (i=0, i<10,i++)"
   ]
  }
 ],
 "metadata": {
  "kernelspec": {
   "display_name": "base",
   "language": "python",
   "name": "python3"
  },
  "language_info": {
   "codemirror_mode": {
    "name": "ipython",
    "version": 3
   },
   "file_extension": ".py",
   "mimetype": "text/x-python",
   "name": "python",
   "nbconvert_exporter": "python",
   "pygments_lexer": "ipython3",
   "version": "3.13.5"
  }
 },
 "nbformat": 4,
 "nbformat_minor": 5
}
